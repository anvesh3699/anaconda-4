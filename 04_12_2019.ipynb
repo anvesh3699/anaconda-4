{
  "nbformat": 4,
  "nbformat_minor": 0,
  "metadata": {
    "colab": {
      "name": "04/12/2019",
      "provenance": []
    },
    "kernelspec": {
      "name": "python3",
      "display_name": "Python 3"
    }
  },
  "cells": [
    {
      "cell_type": "markdown",
      "metadata": {
        "id": "lSvIeNRVBq9C",
        "colab_type": "text"
      },
      "source": [
        "### Functional Programming\n",
        "1. simple\n",
        "2. easy to understand\n",
        "3. better reusebility\n",
        "4. length of program will be devided into sub programs"
      ]
    },
    {
      "cell_type": "code",
      "metadata": {
        "id": "_miXbVgfCoJY",
        "colab_type": "code",
        "colab": {}
      },
      "source": [
        "def nameofFunction(<parameters>):\n",
        "    statements\n",
        "    return"
      ],
      "execution_count": 0,
      "outputs": []
    },
    {
      "cell_type": "markdown",
      "metadata": {
        "id": "E-pW8dwbDHeH",
        "colab_type": "text"
      },
      "source": [
        "# read a number \n",
        "# print the Even digit sum from the number\n",
        "\n",
        "# input : 1234\n",
        "# output : 6(2+4)"
      ]
    },
    {
      "cell_type": "code",
      "metadata": {
        "id": "AB8c2HEPFZxS",
        "colab_type": "code",
        "colab": {
          "base_uri": "https://localhost:8080/",
          "height": 34
        },
        "outputId": "9ee8fb06-1d82-486a-9250-d825b1c25898"
      },
      "source": [
        "def evenDigitsum(n):\n",
        "  s=0\n",
        "  while n!=0:\n",
        "    r = n % 10\n",
        "    if r % 2 == 0:\n",
        "        s = s + r\n",
        "    n = n // 10\n",
        "  return s\n",
        "evenDigitsum(1234)"
      ],
      "execution_count": 10,
      "outputs": [
        {
          "output_type": "execute_result",
          "data": {
            "text/plain": [
              "6"
            ]
          },
          "metadata": {
            "tags": []
          },
          "execution_count": 10
        }
      ]
    },
    {
      "cell_type": "code",
      "metadata": {
        "id": "2JPoa4Z5GCoY",
        "colab_type": "code",
        "colab": {
          "base_uri": "https://localhost:8080/",
          "height": 50
        },
        "outputId": "c0c46e72-9f86-422b-974e-04d72cb2257e"
      },
      "source": [
        "# define return function\n",
        "def square(x):\n",
        "     print(x*x)\n",
        "print(square(4))"
      ],
      "execution_count": 12,
      "outputs": [
        {
          "output_type": "stream",
          "text": [
            "16\n",
            "None\n"
          ],
          "name": "stdout"
        }
      ]
    },
    {
      "cell_type": "code",
      "metadata": {
        "id": "TImWAdjQIKLG",
        "colab_type": "code",
        "colab": {
          "base_uri": "https://localhost:8080/",
          "height": 34
        },
        "outputId": "74672fbb-c7b5-415b-b4e8-2628a1c8831b"
      },
      "source": [
        "def square(x):\n",
        "    return x*x\n",
        "square(3)"
      ],
      "execution_count": 13,
      "outputs": [
        {
          "output_type": "execute_result",
          "data": {
            "text/plain": [
              "9"
            ]
          },
          "metadata": {
            "tags": []
          },
          "execution_count": 13
        }
      ]
    },
    {
      "cell_type": "code",
      "metadata": {
        "id": "HJZwAu5bIfW2",
        "colab_type": "code",
        "colab": {
          "base_uri": "https://localhost:8080/",
          "height": 34
        },
        "outputId": "72344361-8d58-4ab5-a4db-4f6f194a968e"
      },
      "source": [
        "def cube(x):\n",
        "    return x*x*x\n",
        "cube(3)"
      ],
      "execution_count": 16,
      "outputs": [
        {
          "output_type": "execute_result",
          "data": {
            "text/plain": [
              "27"
            ]
          },
          "metadata": {
            "tags": []
          },
          "execution_count": 16
        }
      ]
    },
    {
      "cell_type": "code",
      "metadata": {
        "id": "PsiUyuwZIsm3",
        "colab_type": "code",
        "colab": {
          "base_uri": "https://localhost:8080/",
          "height": 67
        },
        "outputId": "976b0f48-4fbe-449e-d18a-e476b395c366"
      },
      "source": [
        "def multiply(x,y=0):\n",
        "  print(\"value of x=\",x)\n",
        "  print(\"value of y=\",y)\n",
        "  return(x*y)\n",
        "print(multiply(y=2,x=4))"
      ],
      "execution_count": 18,
      "outputs": [
        {
          "output_type": "stream",
          "text": [
            "value of x= 4\n",
            "value of y= 2\n",
            "8\n"
          ],
          "name": "stdout"
        }
      ]
    },
    {
      "cell_type": "code",
      "metadata": {
        "id": "PYq-lCOUK3Rk",
        "colab_type": "code",
        "colab": {
          "base_uri": "https://localhost:8080/",
          "height": 34
        },
        "outputId": "769543bb-6a02-494f-81c1-7a84b20d9c9c"
      },
      "source": [
        "# swap value\n",
        "def swap(x,y):\n",
        "    z=x\n",
        "    x=y\n",
        "    y=z\n",
        "    return(x,y)\n",
        "swap(7,4)"
      ],
      "execution_count": 20,
      "outputs": [
        {
          "output_type": "execute_result",
          "data": {
            "text/plain": [
              "(4, 7)"
            ]
          },
          "metadata": {
            "tags": []
          },
          "execution_count": 20
        }
      ]
    },
    {
      "cell_type": "code",
      "metadata": {
        "id": "b3cWDTGqM8_7",
        "colab_type": "code",
        "colab": {
          "base_uri": "https://localhost:8080/",
          "height": 34
        },
        "outputId": "0cdff94d-f0f0-4f8f-b648-d0870f2f3ca8"
      },
      "source": [
        "# input : 19535\n",
        "# output : 9 (large digit of the given no)\n",
        "def largedigit(n):\n",
        "    large = 0\n",
        "    while n!=0:\n",
        "         r=n%10\n",
        "         if large<r:\n",
        "            large = r\n",
        "         n=n//10\n",
        "    return large\n",
        "largedigit(19535)\n",
        "     \n"
      ],
      "execution_count": 32,
      "outputs": [
        {
          "output_type": "execute_result",
          "data": {
            "text/plain": [
              "9"
            ]
          },
          "metadata": {
            "tags": []
          },
          "execution_count": 32
        }
      ]
    },
    {
      "cell_type": "markdown",
      "metadata": {
        "id": "ukH7elfITERR",
        "colab_type": "text"
      },
      "source": [
        "## For loop\n",
        "#### syntax 1:\n",
        "for i in range (start,stop,step)\n",
        ">statements\n",
        "#### syntax 2:\n",
        "for i interableobject:\n",
        ">statement"
      ]
    },
    {
      "cell_type": "code",
      "metadata": {
        "id": "L5klALjzRMWR",
        "colab_type": "code",
        "colab": {
          "base_uri": "https://localhost:8080/",
          "height": 34
        },
        "outputId": "5228a6c7-0d90-49d9-b7c5-d041ed4ad6c5"
      },
      "source": [
        "# Function to print the numbers btw two limits\n",
        "def printseries(lb,ub):\n",
        "    for x in range(lb,ub+1):\n",
        "        print(x,end =' ')\n",
        "    return\n",
        "printseries(1,10)"
      ],
      "execution_count": 34,
      "outputs": [
        {
          "output_type": "stream",
          "text": [
            "1 2 3 4 5 6 7 8 9 10 "
          ],
          "name": "stdout"
        }
      ]
    },
    {
      "cell_type": "markdown",
      "metadata": {
        "id": "fpSMWd-dWvTO",
        "colab_type": "text"
      },
      "source": [
        "## Collection types:\n",
        "1. List\n",
        "2. Tupel\n",
        "3. Set\n",
        "4. Dictionary\n"
      ]
    },
    {
      "cell_type": "markdown",
      "metadata": {
        "id": "y2WwHiqvY5TJ",
        "colab_type": "text"
      },
      "source": [
        "#List\n",
        "-one of the Data structure in python\n",
        "-Data structure means to store ,sort and serch options\n",
        "-it's one common Data structure in python, the items of list seperated by comma and enclosed in square brackets[]\n",
        "##Example:\n",
        "- list1=[1,2,3,4,5]\n",
        "- list2=[\"Gitam\"1,2]"
      ]
    },
    {
      "cell_type": "code",
      "metadata": {
        "id": "X4uBOBxrYu8n",
        "colab_type": "code",
        "colab": {
          "base_uri": "https://localhost:8080/",
          "height": 151
        },
        "outputId": "2acd25e3-69c4-46cb-e96f-f055cb89cf85"
      },
      "source": [
        "li = [1,8,16,9,2]#Positive index is [0,1,2,3,4] Negative index is [-5,-4,-3,-2,1] \n",
        "print(li)#will print all numbers in the list\n",
        "print(li[0])#will print the first number in the list\n",
        "print(li[1])#will print the number in the list with index 1 i.e., 8\n",
        "print(li[-5])#will print the number in the list with index -5 i.e.,1\n",
        "print(li[2:])#will print the numbers in the list after index 2 including the number with index 2 \n",
        "print(li[1:])#will print the numbers in the list after index 1 including the number with index 1\n",
        "print(li[1:4])\n",
        "print(li[-4:-1])"
      ],
      "execution_count": 40,
      "outputs": [
        {
          "output_type": "stream",
          "text": [
            "[1, 8, 16, 9, 2]\n",
            "1\n",
            "8\n",
            "1\n",
            "[16, 9, 2]\n",
            "[8, 16, 9, 2]\n",
            "[8, 16, 9]\n",
            "[8, 16, 9]\n"
          ],
          "name": "stdout"
        }
      ]
    },
    {
      "cell_type": "code",
      "metadata": {
        "id": "OyAtWKHtZ-DR",
        "colab_type": "code",
        "colab": {
          "base_uri": "https://localhost:8080/",
          "height": 50
        },
        "outputId": "20394f05-31d3-41c4-f099-7cc2980aca99"
      },
      "source": [
        "# Update list \n",
        "li=['gitam',1234,'hyd']\n",
        "print(li)\n",
        "li[1] = 456\n",
        "print(li)"
      ],
      "execution_count": 41,
      "outputs": [
        {
          "output_type": "stream",
          "text": [
            "['gitam', 1234, 'hyd']\n",
            "['gitam', 456, 'hyd']\n"
          ],
          "name": "stdout"
        }
      ]
    },
    {
      "cell_type": "code",
      "metadata": {
        "id": "JdSfK6vEctN8",
        "colab_type": "code",
        "colab": {
          "base_uri": "https://localhost:8080/",
          "height": 50
        },
        "outputId": "e55e74a9-bcce-4195-d87a-b9d182734de4"
      },
      "source": [
        "# delete a value from list\n",
        "li=['gitam',1234,2018,2019,'hyd']\n",
        "print(li)\n",
        "del li[3] \n",
        "print(li)"
      ],
      "execution_count": 43,
      "outputs": [
        {
          "output_type": "stream",
          "text": [
            "['gitam', 1234, 2018, 2019, 'hyd']\n",
            "['gitam', 1234, 2018, 'hyd']\n"
          ],
          "name": "stdout"
        }
      ]
    },
    {
      "cell_type": "code",
      "metadata": {
        "id": "iUWDCI9TdkNn",
        "colab_type": "code",
        "colab": {}
      },
      "source": [
        "# Basic list operations\n",
        "li = [1 , 2 , 3 , ]"
      ],
      "execution_count": 0,
      "outputs": []
    }
  ]
}
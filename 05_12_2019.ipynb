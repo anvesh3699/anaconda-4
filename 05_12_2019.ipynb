{
  "nbformat": 4,
  "nbformat_minor": 0,
  "metadata": {
    "colab": {
      "name": "05/12/2019",
      "provenance": []
    },
    "kernelspec": {
      "name": "python3",
      "display_name": "Python 3"
    }
  },
  "cells": [
    {
      "cell_type": "code",
      "metadata": {
        "id": "bwYWAjbcK6Jd",
        "colab_type": "code",
        "colab": {
          "base_uri": "https://localhost:8080/",
          "height": 84
        },
        "outputId": "c6612422-4e66-48bb-8567-c64aa32422d4"
      },
      "source": [
        "#Basic list functions\n",
        "li = [1,9,16,25,5]\n",
        "print(max(li))\n",
        "print(min(li))\n",
        "print(sum(li))\n",
        "print(sum(li)//len(li))"
      ],
      "execution_count": 1,
      "outputs": [
        {
          "output_type": "stream",
          "text": [
            "25\n",
            "1\n",
            "56\n",
            "11\n"
          ],
          "name": "stdout"
        }
      ]
    },
    {
      "cell_type": "code",
      "metadata": {
        "id": "DclMr2h4LvS6",
        "colab_type": "code",
        "colab": {
          "base_uri": "https://localhost:8080/",
          "height": 67
        },
        "outputId": "34919781-c5a3-4e27-eccc-ffabce337102"
      },
      "source": [
        "li = [1,9,16,25,5]\n",
        "li.append(29) # add the new items at li.\n",
        "print (li)\n",
        "li.insert(2,56) # add the new item at the specific index\n",
        "print(li)\n",
        "#li.append(9)\n",
        "li.count(9) # return the value how many objects repeated \n",
        "li.index(56) # return the value at that index"
      ],
      "execution_count": 10,
      "outputs": [
        {
          "output_type": "stream",
          "text": [
            "[1, 9, 16, 25, 5, 29]\n",
            "[1, 9, 56, 16, 25, 5, 29]\n"
          ],
          "name": "stdout"
        },
        {
          "output_type": "execute_result",
          "data": {
            "text/plain": [
              "2"
            ]
          },
          "metadata": {
            "tags": []
          },
          "execution_count": 10
        }
      ]
    },
    {
      "cell_type": "code",
      "metadata": {
        "id": "w-AixZ61OgPG",
        "colab_type": "code",
        "colab": {
          "base_uri": "https://localhost:8080/",
          "height": 84
        },
        "outputId": "5f1b2b5c-4067-42b1-c13a-6534402acef9"
      },
      "source": [
        "# Method of list objects \n",
        " li = [1,9,16,56,25,5,9]\n",
        " li.sort() # sorts that list in ascending order\n",
        " print(li)\n",
        " print(li.pop()) # last index value \n",
        " print (li.pop(1)) # remove the items from the list\n",
        " li "
      ],
      "execution_count": 12,
      "outputs": [
        {
          "output_type": "stream",
          "text": [
            "[1, 5, 9, 9, 16, 25, 56]\n",
            "56\n",
            "5\n"
          ],
          "name": "stdout"
        },
        {
          "output_type": "execute_result",
          "data": {
            "text/plain": [
              "[1, 9, 9, 16, 25]"
            ]
          },
          "metadata": {
            "tags": []
          },
          "execution_count": 12
        }
      ]
    },
    {
      "cell_type": "code",
      "metadata": {
        "id": "QCb0qqysQCvd",
        "colab_type": "code",
        "colab": {
          "base_uri": "https://localhost:8080/",
          "height": 34
        },
        "outputId": "ff9ae979-111c-4562-e2ea-2332e6023641"
      },
      "source": [
        "li1 = [1,6,19,25]\n",
        "li.extend(li1)\n",
        "li\n",
        "# li.reverse()\n",
        "#li.sort()\n"
      ],
      "execution_count": 23,
      "outputs": [
        {
          "output_type": "execute_result",
          "data": {
            "text/plain": [
              "[1, 6, 9, 19, 22, 25, 45, 1, 6, 19, 25]"
            ]
          },
          "metadata": {
            "tags": []
          },
          "execution_count": 23
        }
      ]
    },
    {
      "cell_type": "code",
      "metadata": {
        "id": "XpdnzT0sRYke",
        "colab_type": "code",
        "colab": {
          "base_uri": "https://localhost:8080/",
          "height": 50
        },
        "outputId": "eb27486f-be9b-4538-d362-eb7f44b2e728"
      },
      "source": [
        "def largenumber(li):\n",
        "    li.sort()\n",
        "    return li[-1]\n",
        "def genericlarge(li,n):\n",
        "    li.sort()\n",
        "    return li[-n]\n",
        "li = [19,1,25,6,9,45,22]\n",
        "print(largenumber(li))\n",
        "print(genericlarge(li,3))"
      ],
      "execution_count": 18,
      "outputs": [
        {
          "output_type": "stream",
          "text": [
            "45\n",
            "22\n"
          ],
          "name": "stdout"
        }
      ]
    },
    {
      "cell_type": "code",
      "metadata": {
        "id": "KR1rdpG3TWA-",
        "colab_type": "code",
        "colab": {
          "base_uri": "https://localhost:8080/",
          "height": 50
        },
        "outputId": "7eddf33d-e1d5-4bcf-e02d-2a88a484a11b"
      },
      "source": [
        "def smallnumber(li):\n",
        "    li.sort()\n",
        "    return li[0]\n",
        "def genericsmall(li,n):\n",
        "    li.sort()\n",
        "    return li[n-1]\n",
        "li = [19,1,25,6,9,45,22]\n",
        "print(smallnumber(li))\n",
        "print(genericsmall(li,3))"
      ],
      "execution_count": 22,
      "outputs": [
        {
          "output_type": "stream",
          "text": [
            "1\n",
            "9\n"
          ],
          "name": "stdout"
        }
      ]
    },
    {
      "cell_type": "markdown",
      "metadata": {
        "id": "ePDgbvpiZujO",
        "colab_type": "text"
      },
      "source": [
        "### Tuples\n",
        "- parenthesis() -->Tuple and square brackets[]---> list\n",
        "- difference between line and tupels  \n",
        "    - list are mutable - can be changed/modified\n",
        "    - used to access and modify,add,delete data\n",
        "    - tuples are immutable - cannot be changed\n",
        "    - used to access the data only\n"
      ]
    },
    {
      "cell_type": "code",
      "metadata": {
        "id": "EGroDg_ZUI11",
        "colab_type": "code",
        "colab": {
          "base_uri": "https://localhost:8080/",
          "height": 34
        },
        "outputId": "5ff73012-1393-4b59-c7cb-68acdba83e88"
      },
      "source": [
        "t1 = (1,2,3,4,5,6)\n",
        "t1\n",
        "print(type(t1),t1[1:5])"
      ],
      "execution_count": 24,
      "outputs": [
        {
          "output_type": "stream",
          "text": [
            "<class 'tuple'> (2, 3, 4, 5)\n"
          ],
          "name": "stdout"
        }
      ]
    },
    {
      "cell_type": "markdown",
      "metadata": {
        "id": "d6Uvjollct7c",
        "colab_type": "text"
      },
      "source": [
        "### Dictionaries\n",
        "1. it works on the concept of set unique Data\n",
        "2. keys,values is the unique identifier for the value\n",
        "3. each key is seperated from its values with colon(:)\n",
        "4. Each key and value is seperated with(,)\n",
        "5. Dictionaries enchaned with curly bracs({})"
      ]
    },
    {
      "cell_type": "code",
      "metadata": {
        "id": "p1Es9baTfDRF",
        "colab_type": "code",
        "colab": {
          "base_uri": "https://localhost:8080/",
          "height": 84
        },
        "outputId": "38c5fcdb-0542-4e26-88c1-788eee7dfa14"
      },
      "source": [
        "d1 = {\"Name\":\"Gitam\",\"Email id\":\"221710801045@gitam.in\",\"Address\":\"Hyderabad\"}\n",
        "print(d1[\"Name\"])\n",
        "print(d1[\"Email id\"])\n",
        "print(d1[\"Address\"])\n",
        "print(d1)"
      ],
      "execution_count": 57,
      "outputs": [
        {
          "output_type": "stream",
          "text": [
            "Gitam\n",
            "221710801045@gitam.in\n",
            "Hyderabad\n",
            "{'Name': 'Gitam', 'Email id': '221710801045@gitam.in', 'Address': 'Hyderabad'}\n"
          ],
          "name": "stdout"
        }
      ]
    },
    {
      "cell_type": "code",
      "metadata": {
        "id": "kzSf54OkbSbd",
        "colab_type": "code",
        "colab": {
          "base_uri": "https://localhost:8080/",
          "height": 34
        },
        "outputId": "1495437b-47cc-410e-abd5-3eb04202b2c3"
      },
      "source": [
        "d1 = {\"Name\":\"Gitam\",\"Email id\":\"221710801045@gamil.com\",\"Adderss\":\"Hyderabad\"}\n",
        "d1[\"Email id\"] = \"gitampython@gmail.com\" # update the data\n",
        "print(d1)"
      ],
      "execution_count": 61,
      "outputs": [
        {
          "output_type": "stream",
          "text": [
            "{'Name': 'Gitam', 'Email id': 'gitampython@gmail.com', 'Adderss': 'Hyderabad'}\n"
          ],
          "name": "stdout"
        }
      ]
    },
    {
      "cell_type": "code",
      "metadata": {
        "id": "gTooDaZXe76T",
        "colab_type": "code",
        "colab": {
          "base_uri": "https://localhost:8080/",
          "height": 34
        },
        "outputId": "3754cf20-0751-4e91-f6a1-dc32d147ca04"
      },
      "source": [
        "d1[\"course\"]=\"python\"# adding an entry\n",
        "print(d1)"
      ],
      "execution_count": 62,
      "outputs": [
        {
          "output_type": "stream",
          "text": [
            "{'Name': 'Gitam', 'Email id': 'gitampython@gmail.com', 'Adderss': 'Hyderabad', 'course': 'python'}\n"
          ],
          "name": "stdout"
        }
      ]
    },
    {
      "cell_type": "code",
      "metadata": {
        "id": "wbaAdGfTh-Nk",
        "colab_type": "code",
        "colab": {
          "base_uri": "https://localhost:8080/",
          "height": 34
        },
        "outputId": "d044871c-488b-45d6-d045-dbf790f8c8bd"
      },
      "source": [
        "del d1[\"Email id\"]\n",
        "print(d1)"
      ],
      "execution_count": 63,
      "outputs": [
        {
          "output_type": "stream",
          "text": [
            "{'Name': 'Gitam', 'Adderss': 'Hyderabad', 'course': 'python'}\n"
          ],
          "name": "stdout"
        }
      ]
    },
    {
      "cell_type": "code",
      "metadata": {
        "id": "mXnAcwS6hUuO",
        "colab_type": "code",
        "colab": {
          "base_uri": "https://localhost:8080/",
          "height": 34
        },
        "outputId": "ff1bc2fc-abaa-40d4-82c7-0ba92b25e190"
      },
      "source": [
        "d1.keys()"
      ],
      "execution_count": 64,
      "outputs": [
        {
          "output_type": "execute_result",
          "data": {
            "text/plain": [
              "dict_keys(['Name', 'Adderss', 'course'])"
            ]
          },
          "metadata": {
            "tags": []
          },
          "execution_count": 64
        }
      ]
    },
    {
      "cell_type": "code",
      "metadata": {
        "id": "uImQ5Newhd2_",
        "colab_type": "code",
        "colab": {
          "base_uri": "https://localhost:8080/",
          "height": 34
        },
        "outputId": "4eeaebd2-0634-4122-8c67-d542342fb99d"
      },
      "source": [
        "d1.values()"
      ],
      "execution_count": 65,
      "outputs": [
        {
          "output_type": "execute_result",
          "data": {
            "text/plain": [
              "dict_values(['Gitam', 'Hyderabad', 'python'])"
            ]
          },
          "metadata": {
            "tags": []
          },
          "execution_count": 65
        }
      ]
    },
    {
      "cell_type": "code",
      "metadata": {
        "id": "Nork7Bsmhg8o",
        "colab_type": "code",
        "colab": {
          "base_uri": "https://localhost:8080/",
          "height": 34
        },
        "outputId": "11b8b706-9b19-4d94-a95b-2ea62435cd23"
      },
      "source": [
        "d1.items() # the list of Dictioneries of keys and values"
      ],
      "execution_count": 66,
      "outputs": [
        {
          "output_type": "execute_result",
          "data": {
            "text/plain": [
              "dict_items([('Name', 'Gitam'), ('Adderss', 'Hyderabad'), ('course', 'python')])"
            ]
          },
          "metadata": {
            "tags": []
          },
          "execution_count": 66
        }
      ]
    },
    {
      "cell_type": "markdown",
      "metadata": {
        "id": "eQlmOiwFi1ib",
        "colab_type": "text"
      },
      "source": [
        "### Strings:\n",
        "- Strings\n",
        "- String sclicing\n",
        "- Fundamental Programming with string in python"
      ]
    },
    {
      "cell_type": "code",
      "metadata": {
        "id": "7SzymuMmjOgp",
        "colab_type": "code",
        "colab": {
          "base_uri": "https://localhost:8080/",
          "height": 50
        },
        "outputId": "b831a3df-2e59-4ab8-aa76-0882f1557750"
      },
      "source": [
        "s1 = 'python'\n",
        "print(s1)\n",
        "print(type(s1))"
      ],
      "execution_count": 69,
      "outputs": [
        {
          "output_type": "stream",
          "text": [
            "python\n",
            "<class 'str'>\n"
          ],
          "name": "stdout"
        }
      ]
    },
    {
      "cell_type": "code",
      "metadata": {
        "id": "d6AHeYohjYZd",
        "colab_type": "code",
        "colab": {
          "base_uri": "https://localhost:8080/",
          "height": 84
        },
        "outputId": "4d115f75-76b1-40f5-bf09-c0fe9bd27daf"
      },
      "source": [
        "s1= 'python'\n",
        "print(s1[0]) # Access the First character\n",
        "print(s1[1]) # Access the Second Character\n",
        "print(s1[5]) # Last Character\n",
        "print(s1[len(s1)-1]) # Access the Last Character   "
      ],
      "execution_count": 70,
      "outputs": [
        {
          "output_type": "stream",
          "text": [
            "p\n",
            "y\n",
            "n\n",
            "n\n"
          ],
          "name": "stdout"
        }
      ]
    },
    {
      "cell_type": "code",
      "metadata": {
        "id": "ZDdJVLuwkZbH",
        "colab_type": "code",
        "colab": {
          "base_uri": "https://localhost:8080/",
          "height": 151
        },
        "outputId": "03e06b80-5309-4871-81da-77d48a72b55b"
      },
      "source": [
        "s1= 'python'\n",
        "print(s1[-1]) # Another way to access the Last Characters\n",
        "print(s1[-2]) # Another way access the Last Second Characters\n",
        "print(s1[-6]) # Access the first Characters\n",
        "print(s1[:2]) # Access the First Characters\n",
        "print(s1[0:2]) # Another way to access the First Characters \n",
        "print(s1[:-3]) # Access the First three Characters \n",
        "print(s1[-3:]) # Access the last three Characters\n",
        "print(s1[2:]) # Access the First Second Character to last characters  "
      ],
      "execution_count": 71,
      "outputs": [
        {
          "output_type": "stream",
          "text": [
            "n\n",
            "o\n",
            "p\n",
            "py\n",
            "py\n",
            "pyt\n",
            "hon\n",
            "thon\n"
          ],
          "name": "stdout"
        }
      ]
    },
    {
      "cell_type": "code",
      "metadata": {
        "id": "aQQjhjwDmdYW",
        "colab_type": "code",
        "colab": {
          "base_uri": "https://localhost:8080/",
          "height": 134
        },
        "outputId": "8bb78870-6737-4262-80d6-223fb3d5c3ec"
      },
      "source": [
        "s1= 'python'\n",
        "print(s1[1:-1]) # Printing all character except first and last\n",
        "print(s1[len(s1)//-2]) # middle of the string\n",
        "print(s1[-1::-1]) # Reverse the string\n",
        "print(s1[-1:-3:-1]) # Access the last two Characters in reverse order\n",
        "#Access th Alternate characters \n",
        "print(s1[::2]) # Alternative Two Characters\n",
        "print(s1[::3]) # Alternative three Characters \n",
        "print(s1[::-2]) # Alternative Two characters in reverse order\n",
        "  "
      ],
      "execution_count": 72,
      "outputs": [
        {
          "output_type": "stream",
          "text": [
            "ytho\n",
            "h\n",
            "nohtyp\n",
            "no\n",
            "pto\n",
            "ph\n",
            "nhy\n"
          ],
          "name": "stdout"
        }
      ]
    },
    {
      "cell_type": "code",
      "metadata": {
        "id": "EWIyfG_roWBO",
        "colab_type": "code",
        "colab": {
          "base_uri": "https://localhost:8080/",
          "height": 34
        },
        "outputId": "e321604e-2b84-4895-c8cd-3963ddaf7361"
      },
      "source": [
        "# Reversing of the string \n",
        "def reversestring(str):\n",
        "    return str[-1::-1]\n",
        "reversestring(\"Programing\")"
      ],
      "execution_count": 73,
      "outputs": [
        {
          "output_type": "execute_result",
          "data": {
            "text/plain": [
              "'gnimargorP'"
            ]
          },
          "metadata": {
            "tags": []
          },
          "execution_count": 73
        }
      ]
    },
    {
      "cell_type": "code",
      "metadata": {
        "id": "NVVIvdeaowGX",
        "colab_type": "code",
        "colab": {
          "base_uri": "https://localhost:8080/",
          "height": 50
        },
        "outputId": "d2d53175-56e4-4ae3-de8e-750d0adf2846"
      },
      "source": [
        "#check whether the given string is palindrome or not\n",
        "def ispalindrome(str):\n",
        "    if str == str[::-1]:\n",
        "        return True\n",
        "    else:\n",
        "        return False\n",
        "print(ispalindrome(\"python\"))\n",
        "print(ispalindrome('ganag'))\n"
      ],
      "execution_count": 74,
      "outputs": [
        {
          "output_type": "stream",
          "text": [
            "False\n",
            "True\n"
          ],
          "name": "stdout"
        }
      ]
    },
    {
      "cell_type": "markdown",
      "metadata": {
        "id": "YTgns4EuqKQF",
        "colab_type": "text"
      },
      "source": [
        "### String Built-in methods:\n",
        "1. upper() -- Will convert the input string into upper case \n",
        "2. lower() -- Wil convert the input string into lower case"
      ]
    },
    {
      "cell_type": "code",
      "metadata": {
        "id": "Gu9kjiIgprJ3",
        "colab_type": "code",
        "colab": {
          "base_uri": "https://localhost:8080/",
          "height": 50
        },
        "outputId": "95de2c6a-e5f5-4fa2-95c4-8fede5d5d240"
      },
      "source": [
        "s1= 'python'\n",
        "print(s1.upper())\n",
        "print(s1.lower())"
      ],
      "execution_count": 75,
      "outputs": [
        {
          "output_type": "stream",
          "text": [
            "PYTHON\n",
            "python\n"
          ],
          "name": "stdout"
        }
      ]
    },
    {
      "cell_type": "code",
      "metadata": {
        "id": "WJyjZ_HnrBqu",
        "colab_type": "code",
        "colab": {}
      },
      "source": [
        "### String Boolean Built-in methods\n",
        "# 1. islower() -- True if the string have all characters lower case \n",
        "# 2. isupper() -- True if the string have all characters upper case\n",
        "# 3. istitle() -- True if the string in title case \n",
        "# 4. isnumeric() -- True if the string is numeric\n",
        "# 5. isalpha() -- True if the string only alphabets \n",
        "# 6. isspace() -- True if the string is space "
      ],
      "execution_count": 0,
      "outputs": []
    },
    {
      "cell_type": "code",
      "metadata": {
        "id": "R6A-tnv1sP9o",
        "colab_type": "code",
        "colab": {
          "base_uri": "https://localhost:8080/",
          "height": 34
        },
        "outputId": "fb2c7abf-132b-43a1-dcbc-c7af66b7795d"
      },
      "source": [
        "s1='python'\n",
        "print(s1.islower())"
      ],
      "execution_count": 80,
      "outputs": [
        {
          "output_type": "stream",
          "text": [
            "True\n"
          ],
          "name": "stdout"
        }
      ]
    },
    {
      "cell_type": "code",
      "metadata": {
        "id": "YYqEl1aTtEMM",
        "colab_type": "code",
        "colab": {
          "base_uri": "https://localhost:8080/",
          "height": 34
        },
        "outputId": "b9446be7-c79b-4135-f706-78a8eb4c8aec"
      },
      "source": [
        "s1='PYTHON'\n",
        "print(s1.isupper())"
      ],
      "execution_count": 89,
      "outputs": [
        {
          "output_type": "stream",
          "text": [
            "True\n"
          ],
          "name": "stdout"
        }
      ]
    },
    {
      "cell_type": "code",
      "metadata": {
        "id": "rXGxfFWCtIHg",
        "colab_type": "code",
        "colab": {
          "base_uri": "https://localhost:8080/",
          "height": 34
        },
        "outputId": "b4e0b84d-d4f1-4d75-ba5c-b1897da77410"
      },
      "source": [
        "s1='Python'\n",
        "print(s1.istitle())"
      ],
      "execution_count": 87,
      "outputs": [
        {
          "output_type": "stream",
          "text": [
            "True\n"
          ],
          "name": "stdout"
        }
      ]
    },
    {
      "cell_type": "code",
      "metadata": {
        "id": "EJnsoJn5tNP4",
        "colab_type": "code",
        "colab": {
          "base_uri": "https://localhost:8080/",
          "height": 34
        },
        "outputId": "d4fcaccc-e97b-483f-e94b-6e35ca84a362"
      },
      "source": [
        "s1='1'\n",
        "print(s1.isnumeric())"
      ],
      "execution_count": 88,
      "outputs": [
        {
          "output_type": "stream",
          "text": [
            "True\n"
          ],
          "name": "stdout"
        }
      ]
    },
    {
      "cell_type": "code",
      "metadata": {
        "id": "1xsitKB_tUNm",
        "colab_type": "code",
        "colab": {
          "base_uri": "https://localhost:8080/",
          "height": 34
        },
        "outputId": "c39fbc83-50b0-442b-e708-777eb7171bf9"
      },
      "source": [
        "s1='python'\n",
        "print(s1.isalpha())"
      ],
      "execution_count": 84,
      "outputs": [
        {
          "output_type": "stream",
          "text": [
            "True\n"
          ],
          "name": "stdout"
        }
      ]
    },
    {
      "cell_type": "code",
      "metadata": {
        "id": "WCQoEZf6tWmw",
        "colab_type": "code",
        "colab": {
          "base_uri": "https://localhost:8080/",
          "height": 34
        },
        "outputId": "cfd854d8-a231-43fe-95ee-4faadef427f8"
      },
      "source": [
        "s1=' '\n",
        "print(s1.isspace())"
      ],
      "execution_count": 86,
      "outputs": [
        {
          "output_type": "stream",
          "text": [
            "True\n"
          ],
          "name": "stdout"
        }
      ]
    },
    {
      "cell_type": "markdown",
      "metadata": {
        "id": "Zd6JXoHQt5fW",
        "colab_type": "text"
      },
      "source": [
        "##String Methods \n",
        "- join() -- Methods will concatainates the two strings\n",
        "- splita() -- split() returns a list of string seperated by white space (No parameters)\n",
        "- replace() -- replace the specific word/character with new word/character"
      ]
    },
    {
      "cell_type": "code",
      "metadata": {
        "id": "jwAW2Uc3ta0_",
        "colab_type": "code",
        "colab": {
          "base_uri": "https://localhost:8080/",
          "height": 34
        },
        "outputId": "0554ca78-749a-42ff-884a-e044a7b0cc36"
      },
      "source": [
        "s1 = 'python'\n",
        "print(\" \".join (s1))"
      ],
      "execution_count": 93,
      "outputs": [
        {
          "output_type": "stream",
          "text": [
            "p y t h o n\n"
          ],
          "name": "stdout"
        }
      ]
    },
    {
      "cell_type": "code",
      "metadata": {
        "id": "jr74EwK-vNmP",
        "colab_type": "code",
        "colab": {
          "base_uri": "https://localhost:8080/",
          "height": 34
        },
        "outputId": "61199093-6704-4b4a-8d11-b8d1248f7eef"
      },
      "source": [
        "s1 = 'python program is easy to learn'\n",
        "print(s1.split())"
      ],
      "execution_count": 94,
      "outputs": [
        {
          "output_type": "stream",
          "text": [
            "['python', 'program', 'is', 'easy', 'to', 'learn']\n"
          ],
          "name": "stdout"
        }
      ]
    },
    {
      "cell_type": "code",
      "metadata": {
        "id": "uN84qzfUvzWm",
        "colab_type": "code",
        "colab": {
          "base_uri": "https://localhost:8080/",
          "height": 34
        },
        "outputId": "6f237f97-fe54-4f22-ae78-4999b12a18d8"
      },
      "source": [
        "s1 = 'python program is easy to learn'\n",
        "print(s1.split('a'))"
      ],
      "execution_count": 96,
      "outputs": [
        {
          "output_type": "stream",
          "text": [
            "['python progr', 'm is e', 'sy to le', 'rn']\n"
          ],
          "name": "stdout"
        }
      ]
    },
    {
      "cell_type": "code",
      "metadata": {
        "id": "_1A95z_ev7zN",
        "colab_type": "code",
        "colab": {
          "base_uri": "https://localhost:8080/",
          "height": 67
        },
        "outputId": "b4a7cd10-b565-4f9e-95d4-93390a4a71ab"
      },
      "source": [
        "s1 = 'python program is easy to learn'\n",
        "print(len(s1))\n",
        "li = s1.split() # Split the string -- list object\n",
        "print(li)\n",
        "print(len(li))"
      ],
      "execution_count": 97,
      "outputs": [
        {
          "output_type": "stream",
          "text": [
            "31\n",
            "['python', 'program', 'is', 'easy', 'to', 'learn']\n",
            "6\n"
          ],
          "name": "stdout"
        }
      ]
    },
    {
      "cell_type": "code",
      "metadata": {
        "id": "ch8tiGHVwV83",
        "colab_type": "code",
        "colab": {
          "base_uri": "https://localhost:8080/",
          "height": 54
        },
        "outputId": "406a48c5-b0b6-439d-8b91-7f8f283f025f"
      },
      "source": [
        "s1 = 'python program is easy to learn'\n",
        "li = list(s1)\n",
        "print(li)"
      ],
      "execution_count": 98,
      "outputs": [
        {
          "output_type": "stream",
          "text": [
            "['p', 'y', 't', 'h', 'o', 'n', ' ', 'p', 'r', 'o', 'g', 'r', 'a', 'm', ' ', 'i', 's', ' ', 'e', 'a', 's', 'y', ' ', 't', 'o', ' ', 'l', 'e', 'a', 'r', 'n']\n"
          ],
          "name": "stdout"
        }
      ]
    },
    {
      "cell_type": "code",
      "metadata": {
        "id": "OBeon3vew6H-",
        "colab_type": "code",
        "colab": {
          "base_uri": "https://localhost:8080/",
          "height": 34
        },
        "outputId": "7b54621a-4a71-401c-fbc3-ab85fe70da22"
      },
      "source": [
        "s1 = 'python program is easy to learn'\n",
        "print(s1.replace(\"gra\",\"Application\"))"
      ],
      "execution_count": 100,
      "outputs": [
        {
          "output_type": "stream",
          "text": [
            "python proApplicationm is easy to learn\n"
          ],
          "name": "stdout"
        }
      ]
    },
    {
      "cell_type": "code",
      "metadata": {
        "id": "juJmPU3vxJ4e",
        "colab_type": "code",
        "colab": {}
      },
      "source": [
        ""
      ],
      "execution_count": 0,
      "outputs": []
    }
  ]
}
{
  "nbformat": 4,
  "nbformat_minor": 0,
  "metadata": {
    "colab": {
      "name": "03/12/2019",
      "provenance": []
    },
    "kernelspec": {
      "name": "python3",
      "display_name": "Python 3"
    }
  },
  "cells": [
    {
      "cell_type": "markdown",
      "metadata": {
        "id": "XN-EqTlyUj7q",
        "colab_type": "text"
      },
      "source": [
        "# insert a image\n",
        "![text](https://encrypted-tbn0.gstatic.com/images?q=tbn%3AANd9GcRa7q8XhBB5inHO3kZa7CMM3NLEnAiVmgxTChTdxorZeVPQRRPu)"
      ]
    },
    {
      "cell_type": "markdown",
      "metadata": {
        "id": "rUTAXETkDeE_",
        "colab_type": "text"
      },
      "source": [
        "print(\"hello world\")\n"
      ]
    },
    {
      "cell_type": "code",
      "metadata": {
        "id": "z5X5wudkEa1W",
        "colab_type": "code",
        "outputId": "c17f7feb-58cb-4933-ddb1-ecbab6d60809",
        "colab": {
          "base_uri": "https://localhost:8080/",
          "height": 34
        }
      },
      "source": [
        "# variable creation\n",
        "a =  10\n",
        "b =  10\n",
        "a+b"
      ],
      "execution_count": 0,
      "outputs": [
        {
          "output_type": "execute_result",
          "data": {
            "text/plain": [
              "20"
            ]
          },
          "metadata": {
            "tags": []
          },
          "execution_count": 16
        }
      ]
    },
    {
      "cell_type": "code",
      "metadata": {
        "id": "Qp9I3Xx-FCG3",
        "colab_type": "code",
        "outputId": "4b819d84-71b9-41b6-b038-017dfaec0ca3",
        "colab": {
          "base_uri": "https://localhost:8080/",
          "height": 34
        }
      },
      "source": [
        "name=\"Gitam\"\n",
        "print(\"university:\"+name)"
      ],
      "execution_count": 0,
      "outputs": [
        {
          "output_type": "stream",
          "text": [
            "university:Gitam\n"
          ],
          "name": "stdout"
        }
      ]
    },
    {
      "cell_type": "code",
      "metadata": {
        "id": "esbl85fmFZSI",
        "colab_type": "code",
        "outputId": "60e91abb-7b87-4cbc-fcf6-118a7d383a64",
        "colab": {
          "base_uri": "https://localhost:8080/",
          "height": 68
        }
      },
      "source": [
        "name=input(\"Enter a name\")\n",
        "age=int(input(\"Enter age\"))\n",
        "print(\"my name is:\",name,\"and my age is:\",age)"
      ],
      "execution_count": 0,
      "outputs": [
        {
          "output_type": "stream",
          "text": [
            "Enter a nameanvesh\n",
            "Enter age19\n",
            "my name is: anvesh and my age is: 19\n"
          ],
          "name": "stdout"
        }
      ]
    },
    {
      "cell_type": "markdown",
      "metadata": {
        "id": "oCcdESD1Gqfw",
        "colab_type": "text"
      },
      "source": [
        "# take two inputs and do the following arithematic operations\n",
        "##add sub multipy divide"
      ]
    },
    {
      "cell_type": "code",
      "metadata": {
        "id": "joz-0RqcHQ6X",
        "colab_type": "code",
        "outputId": "09c6f242-22ce-449a-d945-df8f9e2674d7",
        "colab": {
          "base_uri": "https://localhost:8080/",
          "height": 119
        }
      },
      "source": [
        "a=int(input(\"Enter a value:\"))\n",
        "b=int(input(\"Enter another value:\"))\n",
        "print(\"Sum is\",a+b)\n",
        "print(\"Difference is\",a-b)\n",
        "print(\"product is\",a*b)\n",
        "print(\"Quotient is\",a/b)\n"
      ],
      "execution_count": 0,
      "outputs": [
        {
          "output_type": "stream",
          "text": [
            "Enter a value:10\n",
            "Enter another value:15\n",
            "Sum is 25\n",
            "Difference is -5\n",
            "product is 150\n",
            "Quotient is 0.6666666666666666\n"
          ],
          "name": "stdout"
        }
      ]
    },
    {
      "cell_type": "markdown",
      "metadata": {
        "id": "x8x5VKTBJbTm",
        "colab_type": "text"
      },
      "source": [
        "Data types"
      ]
    },
    {
      "cell_type": "markdown",
      "metadata": {
        "id": "Px0pm5YxKUuO",
        "colab_type": "text"
      },
      "source": [
        "##Integer\n",
        "##Float\n",
        "##Complex\n",
        "##Boolean\n",
        "##String\n"
      ]
    },
    {
      "cell_type": "code",
      "metadata": {
        "id": "X6F3__IpKjo_",
        "colab_type": "code",
        "outputId": "36bc3500-dde8-47d8-e62a-a3d99940050e",
        "colab": {
          "base_uri": "https://localhost:8080/",
          "height": 34
        }
      },
      "source": [
        "a=10\n",
        "b=12,50\n",
        "c=3+5j\n",
        "print(type(a),type(b),type(c))"
      ],
      "execution_count": 0,
      "outputs": [
        {
          "output_type": "stream",
          "text": [
            "<class 'int'> <class 'tuple'> <class 'complex'>\n"
          ],
          "name": "stdout"
        }
      ]
    },
    {
      "cell_type": "markdown",
      "metadata": {
        "id": "D52umTvoLKE_",
        "colab_type": "text"
      },
      "source": [
        "# input a complex number"
      ]
    },
    {
      "cell_type": "code",
      "metadata": {
        "id": "4OnN4AnhLQql",
        "colab_type": "code",
        "outputId": "6bb97491-0d59-480c-8a90-0499346188c3",
        "colab": {
          "base_uri": "https://localhost:8080/",
          "height": 34
        }
      },
      "source": [
        "c=complex(3,5)\n",
        "print(c)"
      ],
      "execution_count": 0,
      "outputs": [
        {
          "output_type": "stream",
          "text": [
            "(3+5j)\n"
          ],
          "name": "stdout"
        }
      ]
    },
    {
      "cell_type": "markdown",
      "metadata": {
        "id": "2ruPu_cQLbxr",
        "colab_type": "text"
      },
      "source": [
        "##Add and subtract two complex numbers"
      ]
    },
    {
      "cell_type": "code",
      "metadata": {
        "id": "a_yk0kZrLluY",
        "colab_type": "code",
        "outputId": "adc2431c-ae5b-4b43-f1f6-3aea3b0b90fd",
        "colab": {
          "base_uri": "https://localhost:8080/",
          "height": 51
        }
      },
      "source": [
        "c1=4+5j\n",
        "c2=10+20j\n",
        "print(\"sum\",c1+c2)\n",
        "print(\"diffrerence\",c1-c2)"
      ],
      "execution_count": 0,
      "outputs": [
        {
          "output_type": "stream",
          "text": [
            "sum (14+25j)\n",
            "diffrerence (-6-15j)\n"
          ],
          "name": "stdout"
        }
      ]
    },
    {
      "cell_type": "markdown",
      "metadata": {
        "id": "6hGNm3SSL-Dj",
        "colab_type": "text"
      },
      "source": [
        "## condition statement getting boolean value"
      ]
    },
    {
      "cell_type": "code",
      "metadata": {
        "id": "_bwYFHDwMHGZ",
        "colab_type": "code",
        "outputId": "e2b6da0a-0dea-4bae-cc8c-7e9dc2cee64f",
        "colab": {
          "base_uri": "https://localhost:8080/",
          "height": 34
        }
      },
      "source": [
        "a=10\n",
        "b=7\n",
        "a>b"
      ],
      "execution_count": 0,
      "outputs": [
        {
          "output_type": "execute_result",
          "data": {
            "text/plain": [
              "True"
            ]
          },
          "metadata": {
            "tags": []
          },
          "execution_count": 25
        }
      ]
    },
    {
      "cell_type": "markdown",
      "metadata": {
        "id": "p0u0JwpAMQrA",
        "colab_type": "text"
      },
      "source": [
        "##Finding Data type for given input"
      ]
    },
    {
      "cell_type": "code",
      "metadata": {
        "id": "QKNYX30eMYq0",
        "colab_type": "code",
        "outputId": "fd0c9ff8-654f-4a2e-cb71-428ff97d741e",
        "colab": {
          "base_uri": "https://localhost:8080/",
          "height": 34
        }
      },
      "source": [
        "a=\"abc\"\n",
        "b=\"xyz\"\n",
        "print(type(a),type(b))"
      ],
      "execution_count": 0,
      "outputs": [
        {
          "output_type": "stream",
          "text": [
            "<class 'str'> <class 'str'>\n"
          ],
          "name": "stdout"
        }
      ]
    },
    {
      "cell_type": "code",
      "metadata": {
        "id": "iEZ0aj2UModZ",
        "colab_type": "code",
        "outputId": "ae81c39b-686f-401d-fa3b-a4f1be496fb4",
        "colab": {
          "base_uri": "https://localhost:8080/",
          "height": 102
        }
      },
      "source": [
        "a=\"100\"\n",
        "print(type(a))\n",
        "b=int(a)\n",
        "print(type(a))\n",
        "c=float(a)\n",
        "print(c)\n",
        "print(type(c))\n",
        "d=int(c)\n",
        "print(d)\n"
      ],
      "execution_count": 0,
      "outputs": [
        {
          "output_type": "stream",
          "text": [
            "<class 'str'>\n",
            "<class 'str'>\n",
            "100.0\n",
            "<class 'float'>\n",
            "100\n"
          ],
          "name": "stdout"
        }
      ]
    },
    {
      "cell_type": "markdown",
      "metadata": {
        "id": "Z1LVpA-XOve7",
        "colab_type": "text"
      },
      "source": [
        "## Length of string"
      ]
    },
    {
      "cell_type": "code",
      "metadata": {
        "id": "RFGP50OQO1-8",
        "colab_type": "code",
        "outputId": "f085a641-8a5d-4f5b-e8fb-9b55aaf05811",
        "colab": {
          "base_uri": "https://localhost:8080/",
          "height": 34
        }
      },
      "source": [
        "a=\"2000\"\n",
        "print(len(str(a)))"
      ],
      "execution_count": 0,
      "outputs": [
        {
          "output_type": "stream",
          "text": [
            "4\n"
          ],
          "name": "stdout"
        }
      ]
    },
    {
      "cell_type": "markdown",
      "metadata": {
        "id": "hxSiKNFJPJn4",
        "colab_type": "text"
      },
      "source": [
        "#Operators\n",
        "##arthematic operators(+,-,*,%,//,**)\n",
        "##logical operators(and,or,not)\n",
        "##relation operators(<,>,<=,>=,==,!=)\n",
        "##membership operators(in,not in)"
      ]
    },
    {
      "cell_type": "markdown",
      "metadata": {
        "id": "hHyaZVGxQ0iM",
        "colab_type": "text"
      },
      "source": [
        "###arthematic operators"
      ]
    },
    {
      "cell_type": "code",
      "metadata": {
        "id": "7iV19ZOLPB8-",
        "colab_type": "code",
        "outputId": "493437e5-1101-4a19-de53-b364cb45348f",
        "colab": {
          "base_uri": "https://localhost:8080/",
          "height": 136
        }
      },
      "source": [
        "a=20\n",
        "b=10\n",
        "print(a+b)\n",
        "print(a-b)\n",
        "print(a*b)\n",
        "print(a//b)\n",
        "print(a%b)\n",
        "print(a**b)\n",
        "print(a/b)"
      ],
      "execution_count": 0,
      "outputs": [
        {
          "output_type": "stream",
          "text": [
            "30\n",
            "10\n",
            "200\n",
            "2\n",
            "0\n",
            "10240000000000\n",
            "2.0\n"
          ],
          "name": "stdout"
        }
      ]
    },
    {
      "cell_type": "markdown",
      "metadata": {
        "id": "HzXhdBFdRY10",
        "colab_type": "text"
      },
      "source": [
        "##relational operators"
      ]
    },
    {
      "cell_type": "code",
      "metadata": {
        "id": "pb09AHsiPh7i",
        "colab_type": "code",
        "outputId": "558bcdbe-527c-4660-e3c8-4504f6bd4b42",
        "colab": {
          "base_uri": "https://localhost:8080/",
          "height": 119
        }
      },
      "source": [
        "a=10\n",
        "b=20\n",
        "print(a>b)\n",
        "print(a<b)\n",
        "print(a<=b)\n",
        "print(a>=b)\n",
        "print(a==b)\n",
        "print(a!=b)"
      ],
      "execution_count": 0,
      "outputs": [
        {
          "output_type": "stream",
          "text": [
            "False\n",
            "True\n",
            "True\n",
            "False\n",
            "False\n",
            "True\n"
          ],
          "name": "stdout"
        }
      ]
    },
    {
      "cell_type": "markdown",
      "metadata": {
        "id": "flTIvAkwSuM_",
        "colab_type": "text"
      },
      "source": [
        "###logical operators"
      ]
    },
    {
      "cell_type": "code",
      "metadata": {
        "id": "J7uCZYKvSpqj",
        "colab_type": "code",
        "outputId": "6ff76ff4-d91c-4dd6-f311-ecc4f4a73a92",
        "colab": {
          "base_uri": "https://localhost:8080/",
          "height": 68
        }
      },
      "source": [
        "a=20\n",
        "b=10\n",
        "print(a>b and a<b)\n",
        "print(a>b or a<b)\n",
        "x=(a>b and a<b)\n",
        "print(not x)"
      ],
      "execution_count": 0,
      "outputs": [
        {
          "output_type": "stream",
          "text": [
            "False\n",
            "True\n",
            "True\n"
          ],
          "name": "stdout"
        }
      ]
    },
    {
      "cell_type": "markdown",
      "metadata": {
        "id": "yRCubcB0VDaP",
        "colab_type": "text"
      },
      "source": [
        "## take two integers and do relation operators \n",
        "### <,>,<=,>=,==,!="
      ]
    },
    {
      "cell_type": "code",
      "metadata": {
        "id": "dU1K0mZFUJGD",
        "colab_type": "code",
        "outputId": "1b5ee5b1-c067-4569-c1db-a2c13140c1d0",
        "colab": {
          "base_uri": "https://localhost:8080/",
          "height": 153
        }
      },
      "source": [
        "a=int(input(\"enter a value:\"))\n",
        "b=int(input(\"enter another value:\"))\n",
        "print(a>b)\n",
        "print(a<b)\n",
        "print(a<=b)\n",
        "print(a>=b)\n",
        "print(a==b)\n",
        "print(a!=b)"
      ],
      "execution_count": 0,
      "outputs": [
        {
          "output_type": "stream",
          "text": [
            "enter a value:10\n",
            "enter another value:15\n",
            "False\n",
            "True\n",
            "True\n",
            "False\n",
            "False\n",
            "True\n"
          ],
          "name": "stdout"
        }
      ]
    },
    {
      "cell_type": "markdown",
      "metadata": {
        "id": "66UR7TBhX04h",
        "colab_type": "text"
      },
      "source": [
        "## Membership operators\n",
        "###in-true if value is found in sequence \n",
        "###not in--true if value is not found in the sequence"
      ]
    },
    {
      "cell_type": "code",
      "metadata": {
        "id": "cuhQnqAdY9at",
        "colab_type": "code",
        "outputId": "972facb7-7652-46ac-94f7-4b0a0bff1c16",
        "colab": {
          "base_uri": "https://localhost:8080/",
          "height": 68
        }
      },
      "source": [
        "f=[1,2,3,4]\n",
        "print(1 in f)\n",
        "print(5 in f)\n",
        "print(5 not in f)"
      ],
      "execution_count": 0,
      "outputs": [
        {
          "output_type": "stream",
          "text": [
            "True\n",
            "False\n",
            "True\n"
          ],
          "name": "stdout"
        }
      ]
    },
    {
      "cell_type": "markdown",
      "metadata": {
        "id": "FW9mDnkyZZbW",
        "colab_type": "text"
      },
      "source": [
        "## Condition statement\n",
        "1.if\n",
        "2.else\n",
        "3.elif\n",
        "## Syntax:\n",
        "##### if condition:\n",
        "> statements<br>\n",
        "##### else:\n",
        "> statements"
      ]
    },
    {
      "cell_type": "markdown",
      "metadata": {
        "id": "yCWB-oJhbCZY",
        "colab_type": "text"
      },
      "source": [
        "##TO check even or odd"
      ]
    },
    {
      "cell_type": "code",
      "metadata": {
        "id": "WbkA-z47ZRvo",
        "colab_type": "code",
        "outputId": "88ce3ffd-f986-4567-945d-9f0edbb5b3d0",
        "colab": {
          "base_uri": "https://localhost:8080/",
          "height": 51
        }
      },
      "source": [
        "n=int(input(\"enter a number\"))\n",
        "if n%2 == 0:\n",
        "     print(\"even\")\n",
        "else:\n",
        "     print(\"odd\")"
      ],
      "execution_count": 0,
      "outputs": [
        {
          "output_type": "stream",
          "text": [
            "enter a number8\n",
            "even\n"
          ],
          "name": "stdout"
        }
      ]
    },
    {
      "cell_type": "markdown",
      "metadata": {
        "id": "DM6KyQNncAAu",
        "colab_type": "text"
      },
      "source": [
        "## To check given number is multiple of 3and5"
      ]
    },
    {
      "cell_type": "code",
      "metadata": {
        "id": "Q88dVtWHb2CN",
        "colab_type": "code",
        "outputId": "b437617a-967f-4e80-dfa1-ac8bcc114b65",
        "colab": {
          "base_uri": "https://localhost:8080/",
          "height": 51
        }
      },
      "source": [
        "n=int(input(\"enter a number:\"))\n",
        "if n%3==0 and n%5==0:\n",
        "  print(\"multiple of 3 and 5\")\n",
        "else:\n",
        "  print(\"not amultiple of 3 and 5\")  \n"
      ],
      "execution_count": 0,
      "outputs": [
        {
          "output_type": "stream",
          "text": [
            "enter a number:45\n",
            "multiple of 3 and 5\n"
          ],
          "name": "stdout"
        }
      ]
    },
    {
      "cell_type": "markdown",
      "metadata": {
        "id": "_gtJ4eHKeAiJ",
        "colab_type": "text"
      },
      "source": [
        "### Check given number is positive ,negative or zero"
      ]
    },
    {
      "cell_type": "code",
      "metadata": {
        "id": "KB380PSZgYMH",
        "colab_type": "code",
        "outputId": "45c7b7fa-46eb-4091-98be-f76e419d242f",
        "colab": {
          "base_uri": "https://localhost:8080/",
          "height": 51
        }
      },
      "source": [
        "n=int(input(\"enter a number:\"))\n",
        "if n>0: \n",
        "   print(\"positive\")\n",
        "elif n<0:\n",
        "   print(\"negative\")\n",
        "else : \n",
        "    print(\"equal to zero\") "
      ],
      "execution_count": 0,
      "outputs": [
        {
          "output_type": "stream",
          "text": [
            "enter a number:0\n",
            "equal to zero\n"
          ],
          "name": "stdout"
        }
      ]
    },
    {
      "cell_type": "markdown",
      "metadata": {
        "id": "9bLl-Gk7gcpa",
        "colab_type": "text"
      },
      "source": [
        "## check the given year is leap year or not"
      ]
    },
    {
      "cell_type": "code",
      "metadata": {
        "id": "EHQAc8U1gZHJ",
        "colab_type": "code",
        "outputId": "87a2dbf8-af5b-4e39-e6ef-0d197efb3923",
        "colab": {
          "base_uri": "https://localhost:8080/",
          "height": 51
        }
      },
      "source": [
        "year=int(input(\"enter a number:\"))\n",
        "if year%400 == 0 or  (year % 100 !=0 and year % 4 ==0):\n",
        "  print(\"leap year\")\n",
        "else :\n",
        "    print(\"not a leap year \")"
      ],
      "execution_count": 0,
      "outputs": [
        {
          "output_type": "stream",
          "text": [
            "enter a number:2016\n",
            "leap year\n"
          ],
          "name": "stdout"
        }
      ]
    },
    {
      "cell_type": "markdown",
      "metadata": {
        "id": "HtTmm_jUjgnr",
        "colab_type": "text"
      },
      "source": [
        "## print numbers from 1 to 10"
      ]
    },
    {
      "cell_type": "code",
      "metadata": {
        "id": "IlK6kzrtjla4",
        "colab_type": "code",
        "outputId": "0ca75a8c-d93c-4e64-ed7b-833ba319e081",
        "colab": {
          "base_uri": "https://localhost:8080/",
          "height": 51
        }
      },
      "source": [
        "n=int(input(\"enter a number:\"))\n",
        "i=1\n",
        "while i <= n:\n",
        "  print(i,end=\" \")\n",
        "  i=i+1"
      ],
      "execution_count": 0,
      "outputs": [
        {
          "output_type": "stream",
          "text": [
            "enter a number:10\n",
            "1 2 3 4 5 6 7 8 9 10 "
          ],
          "name": "stdout"
        }
      ]
    },
    {
      "cell_type": "markdown",
      "metadata": {
        "id": "uOzxTcFTlDUd",
        "colab_type": "text"
      },
      "source": [
        "### read a no a input\n",
        "### output should be sum of even no's from 1 to n"
      ]
    },
    {
      "cell_type": "code",
      "metadata": {
        "id": "RNOWqWmdj59l",
        "colab_type": "code",
        "outputId": "f32fd416-ccc9-42e8-aeae-ec3ec6d3e6b5",
        "colab": {
          "base_uri": "https://localhost:8080/",
          "height": 51
        }
      },
      "source": [
        "n=int(input(\"enter a number:\"))\n",
        "i = 1 \n",
        "s = 0\n",
        "while i<= n:\n",
        "  if i % 2 ==0:\n",
        "      s = s + i\n",
        "  i=i + 1 \n",
        "print(s)"
      ],
      "execution_count": 0,
      "outputs": [
        {
          "output_type": "stream",
          "text": [
            "enter a number:10\n",
            "30\n"
          ],
          "name": "stdout"
        }
      ]
    },
    {
      "cell_type": "markdown",
      "metadata": {
        "id": "s5NKBWMbmKyv",
        "colab_type": "text"
      },
      "source": [
        ""
      ]
    },
    {
      "cell_type": "code",
      "metadata": {
        "id": "h7t_BU0yl7DL",
        "colab_type": "code",
        "colab": {}
      },
      "source": [
        ""
      ],
      "execution_count": 0,
      "outputs": []
    }
  ]
}